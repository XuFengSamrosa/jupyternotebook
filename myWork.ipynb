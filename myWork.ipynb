{
 "cells": [
  {
   "cell_type": "markdown",
   "id": "7fff6005-99af-43cd-9064-ea68030a1e30",
   "metadata": {},
   "source": [
    "# My Jupyter Notebook on IBM Watson Studio"
   ]
  },
  {
   "cell_type": "markdown",
   "id": "5c3ed43a-78fa-4c98-a0d0-b22c6c8fad86",
   "metadata": {},
   "source": [
    "**xu feng**  \n",
    "analyst"
   ]
  },
  {
   "cell_type": "markdown",
   "id": "03f33254-a72b-486a-ba5c-e90cf28518fa",
   "metadata": {},
   "source": [
    "_I ma interested in data science because data science is extremely important in a world full of data, it helps us to clarify our thinking and make decisions_"
   ]
  },
  {
   "cell_type": "markdown",
   "id": "1c1931e5-4bc3-4624-971d-ff8fddf4252d",
   "metadata": {},
   "source": [
    "### this will be simple calculation"
   ]
  },
  {
   "cell_type": "code",
   "execution_count": 1,
   "id": "9d6c2cae-6214-42c6-b428-f8345f7cd17c",
   "metadata": {},
   "outputs": [
    {
     "name": "stdout",
     "output_type": "stream",
     "text": [
      "7\n"
     ]
    }
   ],
   "source": [
    "a = 1\n",
    "b = 2\n",
    "c = 3\n",
    "print(a + b * 3)"
   ]
  },
  {
   "cell_type": "markdown",
   "id": "9904b82e-902d-419f-ac66-a8282a9d5e81",
   "metadata": {},
   "source": [
    "---\n",
    "<li>list 1</li>\n",
    "<li>list 2</li>\n",
    "<li>list 3</li>\n",
    "<li>list 4</li>\n",
    "<li>list 5</li>\n",
    "\n",
    "---\n",
    "\n",
    "<table border=\"1\">\n",
    "    <tr>\n",
    "        <td>row 1, cell 1</td>\n",
    "        <td>row 1, cell 2</td>\n",
    "    </tr>\n",
    "    <tr>\n",
    "        <td>row 2, cell 1</td>\n",
    "        <td>row 2, cell 2</td>\n",
    "    </tr>\n",
    "</table>\n",
    "\n",
    "---\n",
    "\n",
    "<h1><a href=\"https://www.google.com/\">Google</a></h1>"
   ]
  }
 ],
 "metadata": {
  "kernelspec": {
   "display_name": "Python 3 (ipykernel)",
   "language": "python",
   "name": "python3"
  },
  "language_info": {
   "codemirror_mode": {
    "name": "ipython",
    "version": 3
   },
   "file_extension": ".py",
   "mimetype": "text/x-python",
   "name": "python",
   "nbconvert_exporter": "python",
   "pygments_lexer": "ipython3",
   "version": "3.9.7"
  }
 },
 "nbformat": 4,
 "nbformat_minor": 5
}
